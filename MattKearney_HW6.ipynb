{
 "cells": [
  {
   "cell_type": "markdown",
   "metadata": {},
   "source": [
    "### Matthew Kearney"
   ]
  },
  {
   "cell_type": "code",
   "execution_count": 121,
   "metadata": {},
   "outputs": [],
   "source": [
    "import numpy as np\n",
    "x1 = np.array([4 , 4, 1, 2.5, 4.9, 1.9, 3.5, 0.5, 2, 4.5])\n",
    "x2 = np.array ([2.9 , 4, 2.5 , 1, 4.5, 1.9, 4, 1.5, 2.1, 2.5])\n",
    "y = np.array([1,1,-1,-1,1,-1,1,-1,-1,1])"
   ]
  },
  {
   "cell_type": "markdown",
   "metadata": {},
   "source": [
    "### b. [15 pts] Make a random Lagrangian multiplier array, a where 0 ≤ ai ≤ 0.5. Calculate the bias parameter and the weight vectors w. Find the hyperplane equation. Calculate the margin and determine points in the margin using the obtained hyperplane equation. Find the support vectors if there are any. Using the visualization, justify if this is a good SVM classifier. Predict a class of a point x∗ = [3,3]. Is this point in a margin?"
   ]
  },
  {
   "cell_type": "markdown",
   "metadata": {},
   "source": [
    "### Make random L"
   ]
  },
  {
   "cell_type": "code",
   "execution_count": 122,
   "metadata": {},
   "outputs": [],
   "source": [
    "L = []\n",
    "N= len(y)\n",
    "\n",
    "## Lagrangian multiplier array\n",
    "for i in range(0,10):\n",
    "    L.append(np.random.uniform(0, 0.5))\n",
    "\n",
    "#put data into single matrix, python arrays\n",
    "x = np.column_stack((x1, x2))\n",
    "t = y.tolist()\n",
    "\n",
    "\n"
   ]
  },
  {
   "cell_type": "markdown",
   "metadata": {},
   "source": [
    "## Find w"
   ]
  },
  {
   "cell_type": "code",
   "execution_count": 123,
   "metadata": {},
   "outputs": [
    {
     "name": "stdout",
     "output_type": "stream",
     "text": [
      "weights:  [3.7585026973080677, 2.383564242910975]\n"
     ]
    }
   ],
   "source": [
    "# w = sum from i -> N : lagrangian mult.[i] * y[i] * data[i]\n",
    "def find_w(lgrng, y, x, w):\n",
    "    if lgrng == []:\n",
    "        return w\n",
    "    else: \n",
    "        w = w + lgrng[0]*y[0]*x[0]\n",
    "        return find_w(lgrng[1:], y[1:], x[1:], w)\n",
    "    \n",
    "w1 = find_w(L, t, x1, 0) #using data ~ x1\n",
    "w2 = find_w(L, t, x2, 0) # using data x2\n",
    "w = [w1, w2]\n",
    "\n",
    "\n",
    "print(\"weights: \", w)\n"
   ]
  },
  {
   "cell_type": "markdown",
   "metadata": {},
   "source": [
    "## Find Bias"
   ]
  },
  {
   "cell_type": "code",
   "execution_count": 124,
   "metadata": {},
   "outputs": [
    {
     "name": "stdout",
     "output_type": "stream",
     "text": [
      "b:  -17.23627558167776\n"
     ]
    }
   ],
   "source": [
    "def find_b(N, y, x, w, b):\n",
    "    if y == []:\n",
    "        return b/N\n",
    "    else:\n",
    "        b = b + y[0] - np.dot(x[0], w)\n",
    "        return find_b(N, y[1:], x[1:], w, b)\n",
    "    \n",
    "b = find_b(N, t, x, w, 0)\n",
    "\n",
    "print(\"b: \", b)\n"
   ]
  },
  {
   "cell_type": "markdown",
   "metadata": {},
   "source": [
    "## Give hyperplane eq', and calculate points within the margin"
   ]
  },
  {
   "cell_type": "code",
   "execution_count": 125,
   "metadata": {},
   "outputs": [
    {
     "name": "stdout",
     "output_type": "stream",
     "text": [
      "margin:  0.05617472990957331\n",
      "Hyperplane eq: y = 0.2111328738856835*x1 + 0.13389607756764063*x2 + -0.9682431254477218\n",
      "\n",
      "Points within the margin:\n",
      "[]\n"
     ]
    }
   ],
   "source": [
    "mag = np.sqrt(w1**2 + w2**2 + b**2)\n",
    "margin = 1 / mag\n",
    "print(\"margin: \", margin)\n",
    "\n",
    "w1 = w1 / mag\n",
    "w2 = w2 / mag\n",
    "w = [w1, w2]\n",
    "b = b / mag\n",
    "print(f\"Hyperplane eq: y = {w1}*x1 + {w2}*x2 + {b}\\n\")\n",
    "\n",
    "def calc_h(w, x, b):\n",
    "    return np.dot(x, w) + b #(w[0]*x[0] + w[1]*x[1] + b) \n",
    "\n",
    "distances = np.abs(calc_h(w, x, b)) / np.linalg.norm(w)\n",
    "\n",
    "# Find points that lie within the margin\n",
    "margin_indices = np.where(distances < margin)\n",
    "\n",
    "# Get points in the margin\n",
    "points_in_margin = x[margin_indices]\n",
    "\n",
    "print(\"Points within the margin:\")\n",
    "print(points_in_margin)"
   ]
  },
  {
   "cell_type": "markdown",
   "metadata": {},
   "source": [
    "### Find support vectors (there are none)"
   ]
  },
  {
   "cell_type": "code",
   "execution_count": 126,
   "metadata": {},
   "outputs": [
    {
     "name": "stdout",
     "output_type": "stream",
     "text": [
      "support vectors:  []\n"
     ]
    }
   ],
   "source": [
    "\n",
    "SVs = []\n",
    "ct = 0\n",
    "for i in x:\n",
    "    h = calc_h(w, i, b)\n",
    "    # print(\"y*h: \", y[ct]*h)\n",
    "    if (y[ct]*h == 1):\n",
    "        SVs.append(i)\n",
    "    ct = ct + 1\n",
    "\n",
    "print(\"support vectors: \", SVs)\n",
    "\n"
   ]
  },
  {
   "cell_type": "markdown",
   "metadata": {},
   "source": [
    "All points would be correctly classified, with no use of support vectors"
   ]
  },
  {
   "cell_type": "markdown",
   "metadata": {},
   "source": [
    "### Visualizations"
   ]
  },
  {
   "cell_type": "code",
   "execution_count": 127,
   "metadata": {},
   "outputs": [
    {
     "data": {
      "image/png": "[encoded data removed]",
      "text/plain": [
       "<Figure size 640x480 with 1 Axes>"
      ]
     },
     "metadata": {},
     "output_type": "display_data"
    }
   ],
   "source": [
    "import matplotlib.pyplot as plt\n",
    "\n",
    "def plot_data_2D(X, t):\n",
    "    class_1 = np.ravel(t == 1)\n",
    "    class_0 = np.ravel(t == -1)\n",
    "\n",
    "    plt.scatter(X[class_1, 0], X[class_1, 1], label='Class 1', marker='x', c='red')\n",
    "    plt.scatter(X[class_0, 0], X[class_0, 1], label='Class -1', marker='o', edgecolors='blue', facecolors='none')\n",
    "\n",
    "    plt.xlabel('$x_1$')\n",
    "    plt.ylabel('$x_2$')\n",
    "    # Define range of x1 values\n",
    "    x1_range = np.linspace(min(x1), max(x1), 100)\n",
    "\n",
    "# Calculate corresponding x2 values using the hyperplane equation: w1*x1 + w2*x2 + b = 0\n",
    "    x2_values = (-w[0] * x1_range - b) / w[1] # fit hyperplane eq'n along x1 axis\n",
    "    # Plot the hyperplane\n",
    "    plt.plot(x1_range, x2_values + 1, color='blue', linestyle='--', label='(+) Hyperplane')\n",
    "    plt.plot(x1_range, x2_values, color='green', linestyle='--', label='Hyperplane')\n",
    "    plt.plot(x1_range, x2_values - 1, color='red', linestyle='--', label='(-) Hyperplane')\n",
    "    # plt.plot([3],[3], color='blue', linestyle='--', label='test')\n",
    "    plt.scatter(3, 3, label='test', marker='o', c='purple')\n",
    "\n",
    "\n",
    "plot_data_2D(x, y)\n",
    "plt.title('2D training dataset and hyperplane')\n",
    "plt.legend()\n",
    "plt.tight_layout()\n",
    "plt.show()"
   ]
  },
  {
   "cell_type": "markdown",
   "metadata": {},
   "source": [
    "The points are easily linearly seperable, despite randomization in the Lagrangian multiplier. Unfortunately, our margins are not being maximized as we have no support vectors and our hyperplane occassionally (rarely) goes through the two classes (positive slope), not splitting the classes. In this way, sometimes we get severely incorrect classification."
   ]
  },
  {
   "cell_type": "markdown",
   "metadata": {},
   "source": [
    "The best case I viewed among the many however shows the test point quite close to the hyperplane and well inside the margin. This is a good case for the model, though we did not have these reliable outputs with random L. We can note that our margins are spread to the edge of the two classes ~ C1, C2. <br><br> "
   ]
  },
  {
   "cell_type": "markdown",
   "metadata": {},
   "source": [
    "### Predicting x* = [3,3]"
   ]
  },
  {
   "cell_type": "code",
   "execution_count": 128,
   "metadata": {},
   "outputs": [
    {
     "name": "stdout",
     "output_type": "stream",
     "text": [
      "distance [3,3] to hyperplane:  0.06684372891225043  <  margin:  0.05617472990957331 ?\n"
     ]
    },
    {
     "data": {
      "text/plain": [
       "False"
      ]
     },
     "execution_count": 128,
     "metadata": {},
     "output_type": "execute_result"
    }
   ],
   "source": [
    "class_pred_33 = calc_h(w, [3,3], b)\n",
    "print(\"distance [3,3] to hyperplane: \", class_pred_33, \" < \", \"margin: \", margin, \"?\" )\n",
    "class_pred_33 < margin\n"
   ]
  },
  {
   "cell_type": "markdown",
   "metadata": {},
   "source": [
    "This point is not in the margin, as we can reliably see the test point laying above (outside of) the margin. We can see that the model would classify this point with class 1 a large majority of the time. Sometimes this SVM may not produce accurate solutions."
   ]
  },
  {
   "cell_type": "markdown",
   "metadata": {},
   "source": [
    "###  c. [15 pts] Numerically verify that Karush-Kuhn-Tucker (KKT) conditions are satisfied for data points above using the objective equation below\n",
    "## L = (λ/2)*w^2 − {i=1->N} ai [ yi(wxi +b)−1 ].\n",
    "### Use the same a from Question a."
   ]
  },
  {
   "cell_type": "markdown",
   "metadata": {},
   "source": [
    "### d. [15 pts] Using the Lagrangian multiplier, a = [0.414,0,0,0.018,0,0,0.018,0,0.414,0], confirm that KKT conditions are satisfied. Find the hyperplane equation and find the support vectors. Determine if a point (x∗ = [3,3],y∗ = 1) is in a margin. Guess a possible slack variable ξi for the point, x∗ that satisfies the KKT condition"
   ]
  }
 ],
 "metadata": {
  "kernelspec": {
   "display_name": "base",
   "language": "python",
   "name": "python3"
  },
  "language_info": {
   "codemirror_mode": {
    "name": "ipython",
    "version": 3
   },
   "file_extension": ".py",
   "mimetype": "text/x-python",
   "name": "python",
   "nbconvert_exporter": "python",
   "pygments_lexer": "ipython3",
   "version": "3.11.5"
  }
 },
 "nbformat": 4,
 "nbformat_minor": 2
}
