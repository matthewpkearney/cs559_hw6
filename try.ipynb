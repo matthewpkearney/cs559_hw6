{
 "cells": [
  {
   "cell_type": "code",
   "execution_count": 1658,
   "metadata": {},
   "outputs": [],
   "source": [
    "## Load Data\n",
    "import numpy as np\n",
    "x1 = np.array([4 , 4, 1, 2.5, 4.9, 1.9, 3.5, 0.5, 2, 4.5])\n",
    "x2 = np.array ([2.9 , 4, 2.5 , 1, 4.5, 1.9, 4, 1.5, 2.1, 2.5])\n",
    "y = np.array([1,1,-1,-1,1,-1,1,-1,-1,1])"
   ]
  },
  {
   "cell_type": "markdown",
   "metadata": {},
   "source": [
    "### b. [15 pts] Make a random Lagrangian multiplier array, a where 0 ≤ ai ≤ 0.5. Calculate the bias parameter and the weight vectors w. Find the hyperplane equation. Calculate the margin and determine points in the margin using the obtained hyperplane equation. Find the support vectors if there are any. Using the visualization, justify if this is a good SVM classifier. Predict a class of a point x∗ = [3,3]. Is this point in a margin?"
   ]
  },
  {
   "cell_type": "markdown",
   "metadata": {},
   "source": [
    "##### Make random Lagrangian array"
   ]
  },
  {
   "cell_type": "code",
   "execution_count": 1659,
   "metadata": {},
   "outputs": [],
   "source": [
    "L = []\n",
    "N= len(y)\n",
    "\n",
    "## Lagrangian multiplier array\n",
    "for i in range(0,10):\n",
    "    L.append(np.random.uniform(0, 0.5))\n",
    "\n",
    "#put data into single matrix, python arrays\n",
    "x = np.column_stack((x1, x2))\n",
    "t = y.tolist()\n",
    "\n"
   ]
  },
  {
   "cell_type": "markdown",
   "metadata": {},
   "source": [
    "##### Find w"
   ]
  },
  {
   "cell_type": "code",
   "execution_count": 1660,
   "metadata": {},
   "outputs": [
    {
     "name": "stdout",
     "output_type": "stream",
     "text": [
      "weights:  [2.77684744843813, 1.023899671354056]\n"
     ]
    }
   ],
   "source": [
    "# w = sum from i -> N : lagrangian mult.[i] * y[i] * data[i]\n",
    "def find_w(lgrng, y, x, w):\n",
    "    if lgrng == []:\n",
    "        return w\n",
    "    else: \n",
    "        w = w + lgrng[0]*y[0]*x[0]\n",
    "        return find_w(lgrng[1:], y[1:], x[1:], w)\n",
    "    \n",
    "w1 = find_w(L, t, x1, 0) #using data ~ x1\n",
    "w2 = find_w(L, t, x2, 0) # using data x2\n",
    "w = [w1, w2]\n",
    "\n",
    "\n",
    "print(\"weights: \", w)\n"
   ]
  },
  {
   "cell_type": "markdown",
   "metadata": {},
   "source": [
    "##### Find Bias"
   ]
  },
  {
   "cell_type": "code",
   "execution_count": 1661,
   "metadata": {},
   "outputs": [
    {
     "name": "stdout",
     "output_type": "stream",
     "text": [
      "b:  -10.751610767444225\n"
     ]
    }
   ],
   "source": [
    "def find_b(N, y, x, w, b):\n",
    "    if y == []:\n",
    "        return b/N\n",
    "    else:\n",
    "        b = b + y[0] - np.dot(x[0], w)\n",
    "        return find_b(N, y[1:], x[1:], w, b)\n",
    "    \n",
    "b = find_b(N, t, x, w, 0)\n",
    "\n",
    "print(\"b: \", b)\n"
   ]
  },
  {
   "cell_type": "markdown",
   "metadata": {},
   "source": [
    "##### Use the unit vector for implementation, find margin"
   ]
  },
  {
   "cell_type": "code",
   "execution_count": 1662,
   "metadata": {},
   "outputs": [
    {
     "name": "stdout",
     "output_type": "stream",
     "text": [
      "margin:  0.08967387835509745\n",
      "w:  [0.2490106803019036, 0.09181705457682787]\n",
      "b:  -0.9641386360811494\n"
     ]
    }
   ],
   "source": [
    "mag = np.sqrt(w1**2 + w2**2 + b**2)\n",
    "margin = 1 / mag\n",
    "print(\"margin: \", margin)\n",
    "w_old= w\n",
    "b_old= b\n",
    "w1 = w1 / mag\n",
    "w2 = w2 / mag\n",
    "w = [w1, w2]\n",
    "print(\"w: \", w)\n",
    "b = b / mag\n",
    "print(\"b: \", b)"
   ]
  },
  {
   "cell_type": "markdown",
   "metadata": {},
   "source": [
    "##### Hyperplane equation from obtained w, b"
   ]
  },
  {
   "cell_type": "code",
   "execution_count": 1663,
   "metadata": {},
   "outputs": [
    {
     "name": "stdout",
     "output_type": "stream",
     "text": [
      "Hyperplane eq: y = 0.2490106803019036*x1 + 0.09181705457682787*x2 + -0.9641386360811494\n",
      "\n",
      "\n"
     ]
    }
   ],
   "source": [
    "print(f\"Hyperplane eq: y = {w1}*x1 + {w2}*x2 + {b}\\n\\n\")"
   ]
  },
  {
   "cell_type": "markdown",
   "metadata": {},
   "source": [
    "##### Find points within the margin (i.e: hyperplane (+/-) 1)"
   ]
  },
  {
   "cell_type": "code",
   "execution_count": 1664,
   "metadata": {},
   "outputs": [
    {
     "name": "stdout",
     "output_type": "stream",
     "text": [
      "Points within the margin:\n",
      "[]\n"
     ]
    }
   ],
   "source": [
    "def calc_h(w, x, b):\n",
    "    return np.dot(x, w) + b\n",
    "\n",
    "\n",
    "distances = np.abs(calc_h(w, x, b)) / np.linalg.norm(w)\n",
    "\n",
    "# Find points that lie within the margin\n",
    "margin_indices = np.where(distances < margin)\n",
    "\n",
    "# Get points in the margin\n",
    "points_in_margin = x[margin_indices]\n",
    "\n",
    "print(\"Points within the margin:\")\n",
    "print(points_in_margin)"
   ]
  },
  {
   "cell_type": "markdown",
   "metadata": {},
   "source": [
    "##### Find support vectors (there are none)"
   ]
  },
  {
   "cell_type": "code",
   "execution_count": 1665,
   "metadata": {},
   "outputs": [
    {
     "name": "stdout",
     "output_type": "stream",
     "text": [
      "y: 1\n",
      "h: 0.2981735433992657\n",
      "y*h:  0.2981735433992657 \n",
      "\n",
      "y: 1\n",
      "h: 0.3991723034337765\n",
      "y*h:  0.3991723034337765 \n",
      "\n",
      "y: -1\n",
      "h: -0.4855853193371761\n",
      "y*h:  0.4855853193371761 \n",
      "\n",
      "y: -1\n",
      "h: -0.24979488074956246\n",
      "y*h:  0.24979488074956246 \n",
      "\n",
      "y: 1\n",
      "h: 0.6691904429939036\n",
      "y*h:  0.6691904429939036 \n",
      "\n",
      "y: -1\n",
      "h: -0.31656593981155956\n",
      "y*h:  0.31656593981155956 \n",
      "\n",
      "y: 1\n",
      "h: 0.2746669632828248\n",
      "y*h:  0.2746669632828248 \n",
      "\n",
      "y: -1\n",
      "h: -0.7019077140649558\n",
      "y*h:  0.7019077140649558 \n",
      "\n",
      "y: -1\n",
      "h: -0.2733014608660036\n",
      "y*h:  0.2733014608660036 \n",
      "\n",
      "y: 1\n",
      "h: 0.3859520617194864\n",
      "y*h:  0.3859520617194864 \n",
      "\n",
      "support vectors:  []\n"
     ]
    }
   ],
   "source": [
    "SVs = []\n",
    "h_ = []\n",
    "ct = 0\n",
    "for i in range(0,10):\n",
    "    h = calc_h(w, x[i], b)\n",
    "    print(\"y:\", y[i])\n",
    "    print(\"h:\",h)\n",
    "    print(\"y*h: \", y[ct]*h, \"\\n\")\n",
    "    if (y[ct]*h == 1):\n",
    "        SVs.append(i)\n",
    "    ct = ct + 1\n",
    "\n",
    "print(\"support vectors: \", SVs)\n",
    "\n"
   ]
  },
  {
   "cell_type": "markdown",
   "metadata": {},
   "source": [
    "##### Visualizations"
   ]
  },
  {
   "cell_type": "code",
   "execution_count": 1666,
   "metadata": {},
   "outputs": [
    {
     "data": {
      "image/png": "[encoded data removed]",
      "text/plain": [
       "<Figure size 640x480 with 1 Axes>"
      ]
     },
     "metadata": {},
     "output_type": "display_data"
    }
   ],
   "source": [
    "import matplotlib.pyplot as plt\n",
    "\n",
    "def plot_data_2D(X, t, margin, w, b):\n",
    "    class_1 = np.ravel(t == 1)\n",
    "    class_0 = np.ravel(t == -1)\n",
    "\n",
    "    plt.scatter(X[class_1, 0], X[class_1, 1], label='Class 1', marker='x', c='red')\n",
    "    plt.scatter(X[class_0, 0], X[class_0, 1], label='Class -1', marker='o', edgecolors='blue', facecolors='none')\n",
    "\n",
    "    plt.xlabel('$x_1$')\n",
    "    plt.ylabel('$x_2$')\n",
    "    # Define range of x1 values\n",
    "    x1_range = np.linspace(min(x1), max(x1), 100)\n",
    "\n",
    "# Calculate corresponding x2 values using the hyperplane equation: w1*x1 + w2*x2 + b = 0\n",
    "    x2_values = (-w[0] * x1_range - b) / w[1] # fit hyperplane eq'n along x1 axis\n",
    "    # Plot the hyperplane\n",
    "    plt.plot(x1_range, x2_values + margin, color='blue', linestyle='--', label='(+) Hyperplane')\n",
    "    plt.plot(x1_range, x2_values, color='green', linestyle='--', label='Hyperplane')\n",
    "    plt.plot(x1_range, x2_values - margin, color='red', linestyle='--', label='(-) Hyperplane')\n",
    "    # plt.plot([3],[3], color='blue', linestyle='--', label='test')\n",
    "    plt.scatter(3, 3, label='test', marker='o', c='purple')\n",
    "\n",
    "# margin1= 1/np.sqrt(w1**2 + w2**2 + b**2)\n",
    "\n",
    "plot_data_2D(x, y, margin, w, b)\n",
    "plt.title('2D training dataset and hyperplane')\n",
    "plt.legend()\n",
    "plt.tight_layout()\n",
    "plt.show()"
   ]
  },
  {
   "cell_type": "markdown",
   "metadata": {},
   "source": [
    "The points are easily linearly seperable, despite randomization in the Lagrangian multiplier. Unfortunately, our margins are not being maximized as we have no support vectors and our hyperplane occassionally (rarely) goes through the two classes (positive slope), not splitting the classes. In this way, sometimes we get severely incorrect classification.\n",
    "<br><br>\n",
    "The best case I viewed among the many however shows the test point quite close to the hyperplane and well inside the margin. This is a good case for the model, though we did not have these reliable outputs with random L. We can note that our margins are spread to the edge of the two classes ~ C1, C2. On the most typical case, all points are correctly classified with infrequent incorrect results coming from the randomized Lagrangian array."
   ]
  },
  {
   "cell_type": "markdown",
   "metadata": {},
   "source": [
    "##### Predicting x* = [3,3]"
   ]
  },
  {
   "cell_type": "code",
   "execution_count": 1667,
   "metadata": {},
   "outputs": [
    {
     "name": "stdout",
     "output_type": "stream",
     "text": [
      "distance [3,3] to hyperplane:  0.2198370875633049  <  margin:  0.08967387835509745 ?\n",
      "point is in margin?  False\n"
     ]
    }
   ],
   "source": [
    "def d(w, b, x):\n",
    "    return np.abs(w[0]*x[0] + w[1]*x[1] + b)/np.sqrt(w[0]**2 + w[1]**2)\n",
    "\n",
    "class_pred_33 = d(w, b, [3,3])  #calc_h(w, [3,3], b)\n",
    "print(\"distance [3,3] to hyperplane: \", class_pred_33, \" < \", \"margin: \", margin, \"?\" )\n",
    "print(\"point is in margin? \", class_pred_33 < margin)"
   ]
  },
  {
   "cell_type": "markdown",
   "metadata": {},
   "source": [
    "This point is sometimes in the margin, as we can reliably see the test point laying above (outside of), and inside (within the [+] or [-] hyperplane) the marginal hyperplanes. We can see that the model would classify this point x* = [3,3] (correctly) with class 1 a large majority of the time. Sometimes this SVM may not produce accurate solutions, however. If anything, it should be expected in the positive marginal space, and shows that we may face generalization issues if our margins are not globally solved (optimized). It is necessary to solve the model using the SGD fashion (as from lecture notebook) to obtain this global solution. While the model upon solving the hyperplane initially is not always accurate, we can implement linear SVM entirely to solve the model and generalize with the most minimal classification error possible based on the data. <br><br>By looking at the hyperplane, we can see that we should expect SVM in the linear case to create a parametric model that will have the opportunity to face optimization. Upon the 'random, one-time' runs that we implement in this script, we can see that the model generally reveals the same hyperplane each time with some noise (if you will). We can see this as we usually see the rough same 'split' between the data with the hyperplane eq'n: <br> y = 0.2*x1 + 0.15*x2 -1. <br>We can see that if we get an expected (good) hyperplane, it roughly fits these values for w1, w2, and b. If the hyperplane eq'n is off or very off from these values, we should expect either not the best solution (maximal margins) or simply incorrect drawing of the hyperplane. However, we can further validate the efficacy of the model by visually seeing the performance of such 'one-time' runs. You will see in the case of the ideal hyperplane mentioned above, our margins follow the geometrical interpretation of Lagrangian/SVM. We will see in these 'ideal' runs that our margins are attempting maximization (often in the first run [without the SGD model]). <br><br> To keep it simple, our hyperplane line 'evens out' the split it takes for attaining its generalization capacity. In this way, it analyzes how to globally optimize the split for generalization and model classification. It does this by finding similar and minimized distances b/w the data points nearest to the hyperplane (decision boundary). Thus, if we were to create the SGD model and perform machine learning we should expect finding a global solution and that our model will be able to reach the global solution upon a quite reasonable number of iterations, as it performs well upon the very first iteration and without any of the more analytically rigorous model implementation that would give the global sol'n. "
   ]
  },
  {
   "cell_type": "markdown",
   "metadata": {},
   "source": [
    "###  c. [15 pts] Numerically verify that Karush-Kuhn-Tucker (KKT) conditions are satisfied for data points above using the objective equation below\n",
    "## L = (λ/2)*w^2 − {i=1->N} ai [ yi(wxi +b)−1 ].\n",
    "### Use the same a from Question a."
   ]
  },
  {
   "cell_type": "code",
   "execution_count": 1668,
   "metadata": {},
   "outputs": [
    {
     "name": "stdout",
     "output_type": "stream",
     "text": [
      "gx(0):  2.3250880732350563  >=  0  ? ->  True\n",
      "gx(1):  3.4513777117245183  >=  0  ? ->  True\n",
      "gx(2):  4.415014140620955  >=  0  ? ->  True\n",
      "gx(3):  1.7855924749948446  >=  0  ? ->  True\n",
      "gx(4):  6.462490250995865  >=  0  ? ->  True\n",
      "gx(5):  2.5301912398390716  >=  0  ? ->  True\n",
      "gx(6):  2.0629539875054537  >=  0  ? ->  True\n",
      "gx(7):  6.827337536194076  >=  0  ? ->  True\n",
      "gx(8):  2.0477265607244473  >=  0  ? ->  True\n",
      "gx(9):  3.3039519289124986  >=  0  ? ->  True\n",
      "\n",
      "\n"
     ]
    }
   ],
   "source": [
    "# y: {-1, 1}\n",
    "def gx_gte_zero(y,w,x,b):\n",
    "    h_x = np.dot(w, x) + b\n",
    "    return y * h_x - 1\n",
    "\n",
    "# g >= 0\n",
    "gxes = []\n",
    "for i in range(0,10): #NOTE: use 'old'(not from weight vector) values for b and w for KKT..\n",
    "    gx = gx_gte_zero(y[i], w_old, x[i], b_old)\n",
    "    gxes.append(gx)\n",
    "    print(f\"gx({i}): \", gx, \" >= \", 0, \" ? -> \", gx>=0)\n",
    "print('\\n')\n",
    "\n",
    "\n"
   ]
  },
  {
   "cell_type": "code",
   "execution_count": 1669,
   "metadata": {},
   "outputs": [
    {
     "name": "stdout",
     "output_type": "stream",
     "text": [
      "L(0): 0.21115929441656023 >= 0 ? -> True\n",
      "L(1): 0.10471042473973546 >= 0 ? -> True\n",
      "L(2): 0.48569755839526496 >= 0 ? -> True\n",
      "L(3): 0.23608335728935476 >= 0 ? -> True\n",
      "L(4): 0.3907650520860085 >= 0 ? -> True\n",
      "L(5): 0.48920098461610867 >= 0 ? -> True\n",
      "L(6): 0.2875082907520872 >= 0 ? -> True\n",
      "L(7): 0.4165572688500421 >= 0 ? -> True\n",
      "L(8): 0.36294943171161703 >= 0 ? -> True\n",
      "L(9): 0.34042358204371415 >= 0 ? -> True\n",
      "\n",
      "\n"
     ]
    }
   ],
   "source": [
    "# a >= 0\n",
    "for i in range(0,10): \n",
    "    print(f\"L({i}): {L[i]} >= 0 ? -> {L[i]>=0}\")\n",
    "print('\\n')"
   ]
  },
  {
   "cell_type": "code",
   "execution_count": 1670,
   "metadata": {},
   "outputs": [
    {
     "name": "stdout",
     "output_type": "stream",
     "text": [
      "a*g:  0.490963957000674  == 0 ? -> False\n",
      "a*g:  0.3613952261319306  == 0 ? -> False\n",
      "a*g:  2.1443615883801668  == 0 ? -> False\n",
      "a*g:  0.4215486662473912  == 0 ? -> False\n",
      "a*g:  2.5253153395357213  == 0 ? -> False\n",
      "a*g:  1.2377720457963266  == 0 ? -> False\n",
      "a*g:  0.5931163748478957  == 0 ? -> False\n",
      "a*g:  2.8439770775943796  == 0 ? -> False\n",
      "a*g:  0.7432211915157222  == 0 ? -> False\n",
      "a*g:  1.1247431505406316  == 0 ? -> False\n"
     ]
    }
   ],
   "source": [
    "# a*g == 0\n",
    "for i in range(0,10):\n",
    "    print(\"a*g: \", L[i]*gxes[i], f\" == 0 ? -> {L[i]*gxes[i] == 0}\")\n",
    "\n"
   ]
  },
  {
   "cell_type": "markdown",
   "metadata": {},
   "source": [
    "##### Since the last condition is not true for any points, there are no KKT points and therefore no points are provided the local optimality condition in KKT"
   ]
  },
  {
   "cell_type": "markdown",
   "metadata": {},
   "source": [
    "### d. [15 pts] Using the Lagrangian multiplier, a = [0.414,0,0,0.018,0,0,0.018,0,0.414,0], confirm that KKT conditions are satisfied. Find the hyperplane equation and find the support vectors. Determine if a point (x∗ = [3,3],y∗ = 1) is in a margin. Guess a possible slack variable ξi for the point, x∗ that satisfies the KKT condition"
   ]
  },
  {
   "cell_type": "code",
   "execution_count": 1671,
   "metadata": {},
   "outputs": [
    {
     "name": "stdout",
     "output_type": "stream",
     "text": [
      "w:  [0.846, 0.3852]\n",
      "b:  -3.472668\n"
     ]
    }
   ],
   "source": [
    "a = [0.414,0,0,0.018,0,0,0.018,0,0.414,0]\n",
    "w1 = find_w(a, t, x1, 0) #using data ~ x1\n",
    "w2 = find_w(a, t, x2, 0) # using data x2\n",
    "\n",
    "w = [w1, w2]\n",
    "w_old = w\n",
    "print(\"w: \", w)\n",
    "\n",
    "b = find_b(N, t, x, w, 0)\n",
    "b_old = b\n",
    "print(\"b: \", b)"
   ]
  },
  {
   "cell_type": "code",
   "execution_count": 1672,
   "metadata": {},
   "outputs": [
    {
     "name": "stdout",
     "output_type": "stream",
     "text": [
      "gx(0):  0.028411999999999882  >=  0  ? ->  True\n",
      "gx(1):  0.4521319999999993  >=  0  ? ->  True\n",
      "gx(2):  0.6636680000000001  >=  0  ? ->  True\n",
      "gx(3):  -0.027531999999999446  >=  0  ? ->  False\n",
      "gx(4):  1.406132  >=  0  ? ->  True\n",
      "gx(5):  0.13338800000000006  >=  0  ? ->  True\n",
      "gx(6):  0.02913199999999927  >=  0  ? ->  True\n",
      "gx(7):  1.4718680000000002  >=  0  ? ->  True\n",
      "gx(8):  -0.028251999999999722  >=  0  ? ->  False\n",
      "gx(9):  0.2973319999999995  >=  0  ? ->  True\n",
      "\n",
      "\n"
     ]
    }
   ],
   "source": [
    "gxes = []\n",
    "cond1=[]\n",
    "for i in range(0,10): #NOTE: use 'old'(not from weight vector) values for b and w for KKT..\n",
    "    gx = gx_gte_zero(y[i], w, x[i], b)\n",
    "    gxes.append(gx)\n",
    "    print(f\"gx({i}): \", gx, \" >= \", 0, \" ? -> \", gx>=0)\n",
    "    cond1.append(gx>=0)\n",
    "print('\\n')\n"
   ]
  },
  {
   "cell_type": "code",
   "execution_count": 1673,
   "metadata": {},
   "outputs": [
    {
     "name": "stdout",
     "output_type": "stream",
     "text": [
      "a(0): 0.414 >= 0 ? -> True\n",
      "a(1): 0 >= 0 ? -> True\n",
      "a(2): 0 >= 0 ? -> True\n",
      "a(3): 0.018 >= 0 ? -> True\n",
      "a(4): 0 >= 0 ? -> True\n",
      "a(5): 0 >= 0 ? -> True\n",
      "a(6): 0.018 >= 0 ? -> True\n",
      "a(7): 0 >= 0 ? -> True\n",
      "a(8): 0.414 >= 0 ? -> True\n",
      "a(9): 0 >= 0 ? -> True\n",
      "\n",
      "\n"
     ]
    }
   ],
   "source": [
    "# a >= 0\n",
    "cond2=[]\n",
    "for i in range(0,10): \n",
    "    print(f\"a({i}): {a[i]} >= 0 ? -> {a[i]>=0}\")\n",
    "    cond2.append(a[i]>=0)\n",
    "\n",
    "print('\\n')"
   ]
  },
  {
   "cell_type": "code",
   "execution_count": 1674,
   "metadata": {},
   "outputs": [
    {
     "name": "stdout",
     "output_type": "stream",
     "text": [
      "a*g:  0.01176256799999995  == 0 ? -> False\n",
      "a*g:  0.0  == 0 ? -> True\n",
      "a*g:  0.0  == 0 ? -> True\n",
      "a*g:  -0.00049557599999999  == 0 ? -> False\n",
      "a*g:  0.0  == 0 ? -> True\n",
      "a*g:  0.0  == 0 ? -> True\n",
      "a*g:  0.0005243759999999868  == 0 ? -> False\n",
      "a*g:  0.0  == 0 ? -> True\n",
      "a*g:  -0.011696327999999884  == 0 ? -> False\n",
      "a*g:  0.0  == 0 ? -> True\n"
     ]
    }
   ],
   "source": [
    "# a*g == 0\n",
    "cond3=[]\n",
    "for i in range(0,10):\n",
    "    print(\"a*g: \", a[i]*gxes[i], f\" == 0 ? -> {a[i]*gxes[i] == 0}\")\n",
    "    cond3.append(a[i]*gxes[i] == 0)"
   ]
  },
  {
   "cell_type": "code",
   "execution_count": 1675,
   "metadata": {},
   "outputs": [
    {
     "name": "stdout",
     "output_type": "stream",
     "text": [
      "points verifying cond1, cond2, and cond3:\n",
      "point 1 ~ [4. 4.]\n",
      "point 2 ~ [1.  2.5]\n",
      "point 4 ~ [4.9 4.5]\n",
      "point 5 ~ [1.9 1.9]\n",
      "point 7 ~ [0.5 1.5]\n",
      "point 9 ~ [4.5 2.5]\n"
     ]
    }
   ],
   "source": [
    "### Find points that are true for all three conditions\n",
    "KKT=[]\n",
    "for i in range(0,10):\n",
    "    if (cond1[i] == cond2[i] == cond3[i] == True):\n",
    "        KKT.append(i)\n",
    "\n",
    "print(\"points verifying cond1, cond2, and cond3:\")\n",
    "for i in KKT: \n",
    "    print(f\"point {i} ~ {x[i]}\")"
   ]
  },
  {
   "cell_type": "markdown",
   "metadata": {},
   "source": [
    "##### Find the hyperplane equation"
   ]
  },
  {
   "cell_type": "code",
   "execution_count": 1676,
   "metadata": {},
   "outputs": [
    {
     "name": "stdout",
     "output_type": "stream",
     "text": [
      "margin:  0.2781695722345141\n",
      "w:  [0.2353314581103989, 0.10715091922473483]\n",
      "b:  -0.9659905720724856\n",
      "New hyperplane eq: y = 0.2353314581103989*x1 + 0.10715091922473483*x2 + -0.9659905720724856\n",
      "\n",
      "\n"
     ]
    }
   ],
   "source": [
    "mag = np.sqrt(w1**2 + w2**2 + b**2)\n",
    "margin = 1 / mag\n",
    "print(\"margin: \", margin)\n",
    "\n",
    "w1 = w1 / mag\n",
    "w2 = w2 / mag\n",
    "w = [w1, w2]\n",
    "print(\"w: \", w)\n",
    "\n",
    "b = b / mag\n",
    "print(\"b: \", b)\n",
    "\n",
    "print(f\"New hyperplane eq: y = {w1}*x1 + {w2}*x2 + {b}\\n\\n\")\n"
   ]
  },
  {
   "cell_type": "markdown",
   "metadata": {},
   "source": [
    "This is a very close solution to the 'ideal case' we receive in the randomized Lagrangian case, further ensuring the validity of the initial sol'n."
   ]
  },
  {
   "cell_type": "markdown",
   "metadata": {},
   "source": [
    "##### Find the support vectors"
   ]
  },
  {
   "cell_type": "code",
   "execution_count": 1677,
   "metadata": {},
   "outputs": [
    {
     "name": "stdout",
     "output_type": "stream",
     "text": [
      "y: 1 \t h: 0.2860729261208411 \t y*h:  0.2860729261208411\n",
      "y: 1 \t h: 0.4039389372680494 \t y*h:  0.4039389372680494\n",
      "y: -1 \t h: -0.4627818159002496 \t y*h:  0.4627818159002496\n",
      "y: -1 \t h: -0.2705110075717535 \t y*h:  0.2705110075717535\n",
      "y: 1 \t h: 0.6693127091797758 \t y*h:  0.6693127091797758\n",
      "y: -1 \t h: -0.3152740551357316 \t y*h:  0.3152740551357316\n",
      "y: 1 \t h: 0.28627320821284996 \t y*h:  0.28627320821284996\n",
      "y: -1 \t h: -0.687598464180184 \t y*h:  0.687598464180184\n",
      "y: -1 \t h: -0.27031072547974466 \t y*h:  0.27031072547974466\n",
      "y: 1 \t h: 0.3608782874861466 \t y*h:  0.3608782874861466\n",
      "support vectors:  []\n"
     ]
    }
   ],
   "source": [
    "SVs = []\n",
    "h_ = []\n",
    "ct = 0\n",
    "for i in range(0,10):\n",
    "    h = calc_h(w, x[i], b)\n",
    "    print(\"y:\", y[i], \"\\t\", \"h:\" , h, \"\\t\", \"y*h: \", y[ct]*h)\n",
    "    if (y[ct]*h == 1):\n",
    "        SVs.append(i)\n",
    "    ct = ct + 1\n",
    "\n",
    "print(\"support vectors: \", SVs)"
   ]
  },
  {
   "cell_type": "code",
   "execution_count": 1678,
   "metadata": {},
   "outputs": [
    {
     "data": {
      "image/png": "[encoded data removed]",
      "text/plain": [
       "<Figure size 640x480 with 1 Axes>"
      ]
     },
     "metadata": {},
     "output_type": "display_data"
    }
   ],
   "source": [
    "plot_data_2D(x, y, margin, w, b)\n",
    "plt.title('2D training dataset and hyperplane')\n",
    "plt.legend()\n",
    "plt.tight_layout()\n",
    "for i in KKT:\n",
    "    plt.scatter(x1[i], x2[i], label='KKT', marker='o',edgecolors='yellow', facecolors='green')\n",
    "    \n",
    "plt.show()"
   ]
  },
  {
   "cell_type": "markdown",
   "metadata": {},
   "source": [
    "The green points satisfy KKT."
   ]
  },
  {
   "cell_type": "code",
   "execution_count": 1679,
   "metadata": {},
   "outputs": [
    {
     "name": "stdout",
     "output_type": "stream",
     "text": [
      "distance [3,3] to hyperplane:  0.23767191636080828  <  margin:  0.2781695722345141 ?\n",
      "point is in margin?  True\n"
     ]
    }
   ],
   "source": [
    "class_pred_33 = d(w, b, [3,3]) #calc_h(w, [3,3], b)\n",
    "print(\"distance [3,3] to hyperplane: \", class_pred_33, \" < \", \"margin: \", margin, \"?\" )\n",
    "print(\"point is in margin? \", class_pred_33 < margin)"
   ]
  },
  {
   "cell_type": "markdown",
   "metadata": {},
   "source": [
    "Point x* = [3,3] with y* = 1, we can see that the point rests inside the positive hyperplane, meaning it would face correct classification. The distance of [3,3] to the hyperplane is 0.2376, whereas the vertical margin is 0.2782. The reason for this is since the distance of the point x* to the green line is perpendicular (distance: hyperplane lines). However, the marginal distance is added onto the hyperplane vertically meaning that we have a great fit for our hyperplane, it's just that the visual is technically not completely accurate. The point in actuality rests just inside the positive marginal hyperplane."
   ]
  }
 ],
 "metadata": {
  "kernelspec": {
   "display_name": "base",
   "language": "python",
   "name": "python3"
  },
  "language_info": {
   "codemirror_mode": {
    "name": "ipython",
    "version": 3
   },
   "file_extension": ".py",
   "mimetype": "text/x-python",
   "name": "python",
   "nbconvert_exporter": "python",
   "pygments_lexer": "ipython3",
   "version": "3.11.5"
  }
 },
 "nbformat": 4,
 "nbformat_minor": 2
}
