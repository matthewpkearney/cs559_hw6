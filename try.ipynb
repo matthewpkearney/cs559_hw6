{
 "cells": [
  {
   "cell_type": "markdown",
   "metadata": {},
   "source": [
    "### Matt Kearney - Prof. Insuk Jang - CS 559 - 10 April 2024"
   ]
  },
  {
   "cell_type": "code",
   "execution_count": 47,
   "metadata": {},
   "outputs": [],
   "source": [
    "## Load Data\n",
    "import numpy as np\n",
    "x1 = np.array([4 , 4, 1, 2.5, 4.9, 1.9, 3.5, 0.5, 2, 4.5])\n",
    "x2 = np.array ([2.9 , 4, 2.5 , 1, 4.5, 1.9, 4, 1.5, 2.1, 2.5])\n",
    "y = np.array([1,1,-1,-1,1,-1,1,-1,-1,1])"
   ]
  },
  {
   "cell_type": "markdown",
   "metadata": {},
   "source": [
    "##### b. [15 pts] Make a random Lagrangian multiplier array, a where 0 ≤ ai ≤ 0.5. Calculate the bias parameter and the weight vectors w. Find the hyperplane equation. Calculate the margin and determine points in the margin using the obtained hyperplane equation. Find the support vectors if there are any. Using the visualization, justify if this is a good SVM classifier. Predict a class of a point x∗ = [3,3]. Is this point in a margin?"
   ]
  },
  {
   "cell_type": "markdown",
   "metadata": {},
   "source": [
    "##### Make random Lagrangian array"
   ]
  },
  {
   "cell_type": "code",
   "execution_count": 48,
   "metadata": {},
   "outputs": [],
   "source": [
    "L = []\n",
    "N= len(y)\n",
    "\n",
    "## Lagrangian multiplier array\n",
    "for i in range(0,10):\n",
    "    L.append(np.random.uniform(0, 0.5))\n",
    "\n",
    "#put data into single matrix, python arrays\n",
    "x = np.column_stack((x1, x2))\n",
    "t = y.tolist()\n",
    "\n"
   ]
  },
  {
   "cell_type": "markdown",
   "metadata": {},
   "source": [
    "##### Find w"
   ]
  },
  {
   "cell_type": "code",
   "execution_count": 49,
   "metadata": {},
   "outputs": [
    {
     "name": "stdout",
     "output_type": "stream",
     "text": [
      "weights:  [3.117289245763792, 1.8401516393927806]\n"
     ]
    }
   ],
   "source": [
    "# w = sum from i -> N : lagrangian mult.[i] * y[i] * data[i]\n",
    "def find_w(lgrng, y, x, w):\n",
    "    if lgrng == []:\n",
    "        return w\n",
    "    else: \n",
    "        w = w + lgrng[0]*y[0]*x[0]\n",
    "        return find_w(lgrng[1:], y[1:], x[1:], w)\n",
    "    \n",
    "w1 = find_w(L, t, x1, 0) #using data ~ x1\n",
    "w2 = find_w(L, t, x2, 0) # using data x2\n",
    "w = [w1, w2]\n",
    "\n",
    "\n",
    "print(\"weights: \", w)\n"
   ]
  },
  {
   "cell_type": "markdown",
   "metadata": {},
   "source": [
    "##### Find Bias"
   ]
  },
  {
   "cell_type": "code",
   "execution_count": 50,
   "metadata": {},
   "outputs": [
    {
     "name": "stdout",
     "output_type": "stream",
     "text": [
      "b:  -13.927800937766301\n"
     ]
    }
   ],
   "source": [
    "def find_b(N, y, x, w, b):\n",
    "    if y == []:\n",
    "        return b/N\n",
    "    else:\n",
    "        b = b + y[0] - np.dot(x[0], w)\n",
    "        return find_b(N, y[1:], x[1:], w, b)\n",
    "    \n",
    "b = find_b(N, t, x, w, 0)\n",
    "\n",
    "print(\"b: \", b)\n"
   ]
  },
  {
   "cell_type": "markdown",
   "metadata": {},
   "source": [
    "##### Use the unit vector for implementation, find margin"
   ]
  },
  {
   "cell_type": "code",
   "execution_count": 51,
   "metadata": {},
   "outputs": [
    {
     "name": "stdout",
     "output_type": "stream",
     "text": [
      "margin:  0.06949015467401273\n",
      "w:  [0.2166209118517624, 0.12787242204504243]\n",
      "b:  -0.9678450414342399\n"
     ]
    }
   ],
   "source": [
    "mag = np.sqrt(w1**2 + w2**2 + b**2)\n",
    "margin = 1 / mag\n",
    "print(\"margin: \", margin)\n",
    "w_old= w\n",
    "b_old= b\n",
    "w1 = w1 / mag\n",
    "w2 = w2 / mag\n",
    "w = [w1, w2]\n",
    "print(\"w: \", w)\n",
    "b = b / mag\n",
    "print(\"b: \", b)"
   ]
  },
  {
   "cell_type": "markdown",
   "metadata": {},
   "source": [
    "##### Hyperplane equation from obtained w, b"
   ]
  },
  {
   "cell_type": "code",
   "execution_count": 52,
   "metadata": {},
   "outputs": [
    {
     "name": "stdout",
     "output_type": "stream",
     "text": [
      "Hyperplane eq: y = 0.2166209118517624*x1 + 0.12787242204504243*x2 + -0.9678450414342399\n",
      "\n",
      "\n"
     ]
    }
   ],
   "source": [
    "print(f\"Hyperplane eq: y = {w1}*x1 + {w2}*x2 + {b}\\n\\n\")"
   ]
  },
  {
   "cell_type": "markdown",
   "metadata": {},
   "source": [
    "##### Find points within the margin (i.e: hyperplane (+/-) 1)"
   ]
  },
  {
   "cell_type": "code",
   "execution_count": 53,
   "metadata": {},
   "outputs": [
    {
     "name": "stdout",
     "output_type": "stream",
     "text": [
      "Points within the margin:\n",
      "[]\n"
     ]
    }
   ],
   "source": [
    "def calc_h(w, x, b):\n",
    "    return np.dot(x, w) + b\n",
    "\n",
    "\n",
    "distances = np.abs(calc_h(w, x, b)) / np.linalg.norm(w)\n",
    "\n",
    "# Find points that lie within the margin\n",
    "margin_indices = np.where(distances < margin)\n",
    "\n",
    "# Get points in the margin\n",
    "points_in_margin = x[margin_indices]\n",
    "\n",
    "print(\"Points within the margin:\")\n",
    "print(points_in_margin)"
   ]
  },
  {
   "cell_type": "markdown",
   "metadata": {},
   "source": [
    "##### Find support vectors (there are none)"
   ]
  },
  {
   "cell_type": "code",
   "execution_count": 54,
   "metadata": {},
   "outputs": [
    {
     "name": "stdout",
     "output_type": "stream",
     "text": [
      "support vectors:  []\n"
     ]
    }
   ],
   "source": [
    "SVs = []\n",
    "h_ = []\n",
    "ct = 0\n",
    "for i in range(0,10):\n",
    "    h = calc_h(w, x[i], b)\n",
    "    # print(\"y:\", y[i])\n",
    "    # print(\"h:\",h)\n",
    "    # print(\"y*h: \", y[ct]*h, \"\\n\")\n",
    "    if (y[ct]*h == 1):\n",
    "        SVs.append(i)\n",
    "    ct = ct + 1\n",
    "\n",
    "print(\"support vectors: \", SVs)\n",
    "\n"
   ]
  },
  {
   "cell_type": "markdown",
   "metadata": {},
   "source": [
    "##### Visualizations"
   ]
  },
  {
   "cell_type": "code",
   "execution_count": 55,
   "metadata": {},
   "outputs": [
    {
     "data": {
      "image/png": "[encoded data removed]",
      "text/plain": [
       "<Figure size 640x480 with 1 Axes>"
      ]
     },
     "metadata": {},
     "output_type": "display_data"
    }
   ],
   "source": [
    "import matplotlib.pyplot as plt\n",
    "\n",
    "def plot_data_2D(X, t, margin, w, b):\n",
    "    class_1 = np.ravel(t == 1)\n",
    "    class_0 = np.ravel(t == -1)\n",
    "\n",
    "    plt.scatter(X[class_1, 0], X[class_1, 1], label='Class 1', marker='x', c='red')\n",
    "    plt.scatter(X[class_0, 0], X[class_0, 1], label='Class -1', marker='o', edgecolors='blue', facecolors='none')\n",
    "\n",
    "    plt.xlabel('$x_1$')\n",
    "    plt.ylabel('$x_2$')\n",
    "    # Define range of x1 values\n",
    "    x1_range = np.linspace(min(x1), max(x1), 100)\n",
    "\n",
    "# Calculate corresponding x2 values using the hyperplane equation: w1*x1 + w2*x2 + b = 0\n",
    "    x2_values = (-w[0] * x1_range - b) / w[1] # fit hyperplane eq'n along x1 axis\n",
    "\n",
    "\n",
    "    # Plot the hyperplane\n",
    "    plt.plot(x1_range, x2_values + margin, color='blue', linestyle='--', label='(+) Hyperplane')\n",
    "    plt.plot(x1_range, x2_values, color='green', linestyle='--', label='Hyperplane')\n",
    "    plt.plot(x1_range, x2_values - margin, color='red', linestyle='--', label='(-) Hyperplane')\n",
    "    # plt.plot([3],[3], color='blue', linestyle='--', label='test')\n",
    "    plt.scatter(3, 3, label='test', marker='o', c='purple')\n",
    "\n",
    "# margin1= 1/np.sqrt(w1**2 + w2**2 + b**2)\n",
    "\n",
    "plot_data_2D(x, y, margin, w, b)\n",
    "plt.title('2D training dataset and hyperplane')\n",
    "plt.legend()\n",
    "plt.tight_layout()\n",
    "plt.show()"
   ]
  },
  {
   "cell_type": "markdown",
   "metadata": {},
   "source": [
    "The points are easily linearly seperable, despite randomization in the Lagrangian multiplier.  The margins are very small (around 0.05-0.1).Unfortunately, our margins are not being maximized. In addition, we have no support vectors and our hyperplane occassionally (rarely) goes through the two classes (with positive slope), instead of splitting the classes and creating a proper decision boundary. In this way, sometimes we get severely incorrect classification, but upon model implementation with SGD this issue would not be a consideration.\n",
    "<br><br>\n",
    "The best case I viewed among the many however shows the test point quite close to the hyperplane and well outside the margin. This is a good case for the model, though we did not have these reliable outputs with random L. We can note that our margins are spread to the edge of the two classes ~ C1, C2, but not maximally. On the most typical case, all points are correctly classified with infrequent incorrect results coming from the randomized Lagrangian array."
   ]
  },
  {
   "cell_type": "markdown",
   "metadata": {},
   "source": [
    "##### Predicting x* = [3,3]"
   ]
  },
  {
   "cell_type": "code",
   "execution_count": 56,
   "metadata": {},
   "outputs": [
    {
     "name": "stdout",
     "output_type": "stream",
     "text": [
      "distance [3,3] to hyperplane:  0.26092506543941363  <  margin:  0.06949015467401273 ?\n",
      "point is in margin?  False\n"
     ]
    }
   ],
   "source": [
    "def d(w, b, x):\n",
    "    return np.abs(w[0]*x[0] + w[1]*x[1] + b)/np.sqrt(w[0]**2 + w[1]**2)\n",
    "\n",
    "class_pred_33 = d(w, b, [3,3])  #calc_h(w, [3,3], b)\n",
    "print(\"distance [3,3] to hyperplane: \", class_pred_33, \" < \", \"margin: \", margin, \"?\" )\n",
    "print(\"point is in margin? \", class_pred_33 < margin)"
   ]
  },
  {
   "cell_type": "markdown",
   "metadata": {},
   "source": [
    "This point is sometimes in the margin, as we can reliably see the test point laying above (outside of) the marginal hyperplanes. We can see that the  model would classify this point x* = [3,3] (correctly) with class 1 a large majority of the time. Sometimes this SVM may not produce accurate solutions, however. If anything, it should be expected in the positive marginal space, and shows that we may face generalization issues if our margins are not globally solved (optimized). Since our margins are not maximized, it is hard to say how the generalization process might go. This is since it is necessary to solve the model using the SGD fashion (as from lecture notebook) to obtain this global solution for the Lagrangian multiplier array. While the model upon solving the hyperplane initially is not always accurate, we can implement linear SVM to solve the model and generalize with the most minimal classification error possible based on the data. <br><br>By looking at the hyperplane, we can see that we should expect SVM in the linear case to create a parametric model that will have the opportunity to face optimization. Upon the 'random, one-time' runs that we implement in this script, we can see that the model generally reveals the same hyperplane each time with some noise (if you will) coming from L randomization upon runtime. We can see this as we usually see the rough same 'split' between the data with the hyperplane eq'n: <br><br> y = 0.2*x1 + 0.15*x2 -1. <br><br> We can see that if we get an expected (good) hyperplane, it roughly fits these values for w1, w2, and b. If the hyperplane eq'n is off or very off from these values, we should expect either not the best solution (maximal margins) or simply incorrect drawing of the hyperplane. However, we can further validate the efficacy of the model by visually seeing the performance of such 'one-time' runs. You will see in the case of the ideal hyperplane mentioned above, our margins follow the geometrical interpretation of Lagrangian/SVM. We will see in these 'ideal' runs that our margins are attempting maximization (often in the first run [without the SGD model]). <br><br> To keep it simple, our hyperplane line 'evens out' the split it takes for attaining its generalization capacity in this ideal mentioned case. In this way, the model analyzes how to globally optimize the split for generalization and model classification such that generalizing to new data points near the decision boundary will be classified correctly. It does this by finding similar and minimized distances b/w the data points nearest to the hyperplane (decision boundary). <br><br> Thus, if we were to create the SGD model and perform machine learning we should expect finding a global solution and that our model will be able to reach the global solution upon a quite reasonable number of iterations, as it performs well upon the very first iteration and without any of the more analytically rigorous model implementation that would give the global sol'n. We should only expect improvements to the model upon implementation and generalization to a test set. While this 'one-time' model for splitting the data is largely unreliable, it provides a great basis and robust mathematical analysis in order to maximize the margins for generalization. Overall, the SVM model is good providing a very effective classification based largely on geometrical optimization for the low computational cost that it requires. While it is a good and impressive model, I would not choose this model to extend as a final product model that I would generalize or implement to any more data points, but for the purpose of splitting the classes (finding decision boundary ~ hyperplane) without ample domain knowledge on the data and the classes, as it does create incorrect solutions rarely, but also lead to the domain knowledge of finding and rationalizing such ideal hyperplanes such as in part b) with the ideal case I mention and in part d) with the hyperplane obtained from a static a ~ Lagrangian that is (likely, intuitiely) tailored to our data. "
   ]
  },
  {
   "cell_type": "markdown",
   "metadata": {},
   "source": [
    "###  c. [15 pts] Numerically verify that Karush-Kuhn-Tucker (KKT) conditions are satisfied for data points above using the objective equation below\n",
    "## L = (λ/2)*w^2 − {i=1->N} ai [ yi(wxi +b)−1 ].\n",
    "### Use the same a from Question a."
   ]
  },
  {
   "cell_type": "code",
   "execution_count": 57,
   "metadata": {},
   "outputs": [
    {
     "name": "stdout",
     "output_type": "stream",
     "text": [
      "gx(0):  2.877795799527929  >=  0  ? ->  True\n",
      "gx(1):  4.901962602859987  >=  0  ? ->  True\n",
      "gx(2):  5.210132593520558  >=  0  ? ->  True\n",
      "gx(3):  3.29442618396404  >=  0  ? ->  True\n",
      "gx(4):  8.627598743743794  >=  0  ? ->  True\n",
      "gx(5):  3.5086632559688145  >=  0  ? ->  True\n",
      "gx(6):  3.343317979978094  >=  0  ? ->  True\n",
      "gx(7):  8.608928855795234  >=  0  ? ->  True\n",
      "gx(8):  2.8289040035138786  >=  0  ? ->  True\n",
      "gx(9):  3.7003797666527145  >=  0  ? ->  True\n",
      "\n",
      "\n"
     ]
    }
   ],
   "source": [
    "# y: {-1, 1}\n",
    "def gx_gte_zero(y,w,x,b):\n",
    "    h_x = np.dot(w, x) + b\n",
    "    return y * h_x - 1\n",
    "\n",
    "# g >= 0\n",
    "gxes = []\n",
    "for i in range(0,10): #NOTE: use 'old'(not from weight vector) values for b and w for KKT..\n",
    "    gx = gx_gte_zero(y[i], w_old, x[i], b_old)\n",
    "    gxes.append(gx)\n",
    "    print(f\"gx({i}): \", gx, \" >= \", 0, \" ? -> \", gx>=0)\n",
    "print('\\n')\n",
    "\n",
    "\n"
   ]
  },
  {
   "cell_type": "code",
   "execution_count": 58,
   "metadata": {},
   "outputs": [
    {
     "name": "stdout",
     "output_type": "stream",
     "text": [
      "L(0): 0.1201561382440034 >= 0 ? -> True\n",
      "L(1): 0.3408378275731297 >= 0 ? -> True\n",
      "L(2): 0.2182773578264095 >= 0 ? -> True\n",
      "L(3): 0.10035767906540716 >= 0 ? -> True\n",
      "L(4): 0.18130044141529972 >= 0 ? -> True\n",
      "L(5): 0.14701459159332547 >= 0 ? -> True\n",
      "L(6): 0.1577306363509931 >= 0 ? -> True\n",
      "L(7): 0.33837725069391233 >= 0 ? -> True\n",
      "L(8): 0.3058652196522519 >= 0 ? -> True\n",
      "L(9): 0.3027338525556713 >= 0 ? -> True\n",
      "\n",
      "\n"
     ]
    }
   ],
   "source": [
    "# a >= 0\n",
    "for i in range(0,10): \n",
    "    print(f\"L({i}): {L[i]} >= 0 ? -> {L[i]>=0}\")\n",
    "print('\\n')"
   ]
  },
  {
   "cell_type": "code",
   "execution_count": 59,
   "metadata": {},
   "outputs": [
    {
     "name": "stdout",
     "output_type": "stream",
     "text": [
      "a*g:  0.3457848299260901  == 0 ? -> False\n",
      "a*g:  1.6707742844035223  == 0 ? -> False\n",
      "a*g:  1.1372539764389258  == 0 ? -> False\n",
      "a*g:  0.33062096567493715  == 0 ? -> False\n",
      "a*g:  1.5641874605948352  == 0 ? -> False\n",
      "a*g:  0.5158246956147629  == 0 ? -> False\n",
      "a*g:  0.5273436725056616  == 0 ? -> False\n",
      "a*g:  2.91306567764348  == 0 ? -> False\n",
      "a*g:  0.8652633444099073  == 0 ? -> False\n",
      "a*g:  1.1202302226778322  == 0 ? -> False\n"
     ]
    }
   ],
   "source": [
    "# a*g == 0\n",
    "for i in range(0,10):\n",
    "    print(\"a*g: \", L[i]*gxes[i], f\" == 0 ? -> {L[i]*gxes[i] == 0}\")\n",
    "\n"
   ]
  },
  {
   "cell_type": "markdown",
   "metadata": {},
   "source": [
    "KKT condition 3 (a*g(x) == 0) is never true for any points."
   ]
  },
  {
   "cell_type": "markdown",
   "metadata": {},
   "source": [
    "##### Since the last condition is not true for any points, there are no KKT points and therefore no points are provided the local optimality condition in KKT"
   ]
  },
  {
   "cell_type": "markdown",
   "metadata": {},
   "source": [
    "### d. [15 pts] Using the Lagrangian multiplier, a = [0.414,0,0,0.018,0,0,0.018,0,0.414,0], confirm that KKT conditions are satisfied. Find the hyperplane equation and find the support vectors. Determine if a point (x∗ = [3,3],y∗ = 1) is in a margin. Guess a possible slack variable ξi for the point, x∗ that satisfies the KKT condition"
   ]
  },
  {
   "cell_type": "code",
   "execution_count": 60,
   "metadata": {},
   "outputs": [
    {
     "name": "stdout",
     "output_type": "stream",
     "text": [
      "w:  [0.846, 0.3852]\n",
      "b:  -3.472668\n"
     ]
    }
   ],
   "source": [
    "a = [0.414,0,0,0.018,0,0,0.018,0,0.414,0]\n",
    "w1 = find_w(a, t, x1, 0) #using data ~ x1\n",
    "w2 = find_w(a, t, x2, 0) # using data x2\n",
    "\n",
    "w = [w1, w2]\n",
    "w_old = w\n",
    "print(\"w: \", w)\n",
    "\n",
    "b = find_b(N, t, x, w, 0)\n",
    "b_old = b\n",
    "print(\"b: \", b)"
   ]
  },
  {
   "cell_type": "code",
   "execution_count": 61,
   "metadata": {},
   "outputs": [
    {
     "name": "stdout",
     "output_type": "stream",
     "text": [
      "gx(0):  0.028411999999999882  >=  0  ? ->  True\n",
      "gx(1):  0.4521319999999993  >=  0  ? ->  True\n",
      "gx(2):  0.6636680000000001  >=  0  ? ->  True\n",
      "gx(3):  -0.027531999999999446  >=  0  ? ->  False\n",
      "gx(4):  1.406132  >=  0  ? ->  True\n",
      "gx(5):  0.13338800000000006  >=  0  ? ->  True\n",
      "gx(6):  0.02913199999999927  >=  0  ? ->  True\n",
      "gx(7):  1.4718680000000002  >=  0  ? ->  True\n",
      "gx(8):  -0.028251999999999722  >=  0  ? ->  False\n",
      "gx(9):  0.2973319999999995  >=  0  ? ->  True\n",
      "\n",
      "\n"
     ]
    }
   ],
   "source": [
    "gxes = []\n",
    "cond1=[]\n",
    "for i in range(0,10): #NOTE: use 'old'(not from weight vector) values for b and w for KKT..\n",
    "    gx = gx_gte_zero(y[i], w_old, x[i,:], b_old)\n",
    "    gxes.append(gx)\n",
    "    print(f\"gx({i}): \", gx, \" >= \", 0, \" ? -> \", gx>=0)\n",
    "    cond1.append(gx>=0)\n",
    "print('\\n')\n"
   ]
  },
  {
   "cell_type": "code",
   "execution_count": 62,
   "metadata": {},
   "outputs": [
    {
     "name": "stdout",
     "output_type": "stream",
     "text": [
      "a(0): 0.414 >= 0 ? -> True\n",
      "a(1): 0 >= 0 ? -> True\n",
      "a(2): 0 >= 0 ? -> True\n",
      "a(3): 0.018 >= 0 ? -> True\n",
      "a(4): 0 >= 0 ? -> True\n",
      "a(5): 0 >= 0 ? -> True\n",
      "a(6): 0.018 >= 0 ? -> True\n",
      "a(7): 0 >= 0 ? -> True\n",
      "a(8): 0.414 >= 0 ? -> True\n",
      "a(9): 0 >= 0 ? -> True\n",
      "\n",
      "\n"
     ]
    }
   ],
   "source": [
    "# a >= 0\n",
    "cond2=[]\n",
    "for i in range(0,10): \n",
    "    print(f\"a({i}): {a[i]} >= 0 ? -> {a[i]>=0}\")\n",
    "    cond2.append(a[i]>=0)\n",
    "\n",
    "print('\\n')"
   ]
  },
  {
   "cell_type": "code",
   "execution_count": 63,
   "metadata": {},
   "outputs": [
    {
     "name": "stdout",
     "output_type": "stream",
     "text": [
      "a*g:  0.01176256799999995  == 0 ? -> False\n",
      "a*g:  0.0  == 0 ? -> True\n",
      "a*g:  0.0  == 0 ? -> True\n",
      "a*g:  -0.00049557599999999  == 0 ? -> False\n",
      "a*g:  0.0  == 0 ? -> True\n",
      "a*g:  0.0  == 0 ? -> True\n",
      "a*g:  0.0005243759999999868  == 0 ? -> False\n",
      "a*g:  0.0  == 0 ? -> True\n",
      "a*g:  -0.011696327999999884  == 0 ? -> False\n",
      "a*g:  0.0  == 0 ? -> True\n"
     ]
    }
   ],
   "source": [
    "# a*g == 0\n",
    "cond3=[]\n",
    "for i in range(0,10):\n",
    "    print(\"a*g: \", a[i]*gxes[i], f\" == 0 ? -> {a[i]*gxes[i] == 0}\")\n",
    "    cond3.append(a[i]*gxes[i] == 0)"
   ]
  },
  {
   "cell_type": "code",
   "execution_count": 64,
   "metadata": {},
   "outputs": [
    {
     "name": "stdout",
     "output_type": "stream",
     "text": [
      "points verifying cond1, cond2, and cond3: (starting from point 0 -> point 9)\n",
      "point 1 ~ [4. 4.]\n",
      "point 2 ~ [1.  2.5]\n",
      "point 4 ~ [4.9 4.5]\n",
      "point 5 ~ [1.9 1.9]\n",
      "point 7 ~ [0.5 1.5]\n",
      "point 9 ~ [4.5 2.5]\n"
     ]
    }
   ],
   "source": [
    "### Find points that are true for all three conditions\n",
    "KKT=[]\n",
    "for i in range(0,10):\n",
    "    if ((cond1[i] == True) & (cond2[i] == True) & (cond3[i] == True)):\n",
    "        KKT.append(i)\n",
    "\n",
    "print(\"points verifying cond1, cond2, and cond3: (starting from point 0 -> point 9)\")\n",
    "for i in KKT: \n",
    "    print(f\"point {i} ~ {x[i]}\")"
   ]
  },
  {
   "cell_type": "markdown",
   "metadata": {},
   "source": [
    "##### Find the hyperplane equation"
   ]
  },
  {
   "cell_type": "code",
   "execution_count": 65,
   "metadata": {},
   "outputs": [
    {
     "name": "stdout",
     "output_type": "stream",
     "text": [
      "margin:  0.2781695722345141\n",
      "w:  [0.2353314581103989, 0.10715091922473483]\n",
      "b:  -0.9659905720724856\n",
      "New hyperplane eq: y = 0.2353314581103989*x1 + 0.10715091922473483*x2 + -0.9659905720724856\n",
      "\n",
      "\n"
     ]
    }
   ],
   "source": [
    "mag = np.sqrt(w1**2 + w2**2 + b**2)\n",
    "margin = 1 / mag\n",
    "print(\"margin: \", margin)\n",
    "\n",
    "w1 = w1 / mag\n",
    "w2 = w2 / mag\n",
    "w = [w1, w2]\n",
    "print(\"w: \", w)\n",
    "\n",
    "b = b / mag\n",
    "print(\"b: \", b)\n",
    "\n",
    "print(f\"New hyperplane eq: y = {w1}*x1 + {w2}*x2 + {b}\\n\\n\")\n"
   ]
  },
  {
   "cell_type": "markdown",
   "metadata": {},
   "source": [
    "This is a very close solution to the 'ideal case' we receive in the randomized Lagrangian case, further ensuring the validity of the initial sol'n and that the parametrid SVM as done in part b is truly very effective, as it reaches a very similar conclusion upon a random Lagrangian array, with (moreso) maximized margins. However, though the model isn't affected we can see below that we still don't have support vectors which could be further explored."
   ]
  },
  {
   "cell_type": "markdown",
   "metadata": {},
   "source": [
    "##### Find the support vectors"
   ]
  },
  {
   "cell_type": "code",
   "execution_count": 66,
   "metadata": {},
   "outputs": [
    {
     "name": "stdout",
     "output_type": "stream",
     "text": [
      "y: 1 \t h: 0.2860729261208411 \t y*h:  0.2860729261208411\n",
      "y: 1 \t h: 0.4039389372680494 \t y*h:  0.4039389372680494\n",
      "y: -1 \t h: -0.4627818159002496 \t y*h:  0.4627818159002496\n",
      "y: -1 \t h: -0.2705110075717535 \t y*h:  0.2705110075717535\n",
      "y: 1 \t h: 0.6693127091797758 \t y*h:  0.6693127091797758\n",
      "y: -1 \t h: -0.3152740551357316 \t y*h:  0.3152740551357316\n",
      "y: 1 \t h: 0.28627320821284996 \t y*h:  0.28627320821284996\n",
      "y: -1 \t h: -0.687598464180184 \t y*h:  0.687598464180184\n",
      "y: -1 \t h: -0.27031072547974466 \t y*h:  0.27031072547974466\n",
      "y: 1 \t h: 0.3608782874861466 \t y*h:  0.3608782874861466\n",
      "support vectors:  []\n"
     ]
    }
   ],
   "source": [
    "SVs = []\n",
    "h_ = []\n",
    "ct = 0\n",
    "for i in range(0,10):\n",
    "    h = calc_h(w, x[i], b)\n",
    "    print(\"y:\", y[i], \"\\t\", \"h:\" , h, \"\\t\", \"y*h: \", y[ct]*h)\n",
    "    if (y[ct]*h == 1):\n",
    "        SVs.append(i)\n",
    "    ct = ct + 1\n",
    "\n",
    "print(\"support vectors: \", SVs)"
   ]
  },
  {
   "cell_type": "code",
   "execution_count": 67,
   "metadata": {},
   "outputs": [
    {
     "data": {
      "image/png": "[encoded data removed]",
      "text/plain": [
       "<Figure size 640x480 with 1 Axes>"
      ]
     },
     "metadata": {},
     "output_type": "display_data"
    }
   ],
   "source": [
    "plot_data_2D(x, y, margin, w, b)\n",
    "plt.title('2D training dataset and hyperplane')\n",
    "plt.legend()\n",
    "plt.tight_layout()\n",
    "for i in KKT:\n",
    "    plt.scatter(x1[i], x2[i], label='KKT', marker='o',edgecolors='yellow', facecolors='green')\n",
    "    \n",
    "plt.show()"
   ]
  },
  {
   "cell_type": "markdown",
   "metadata": {},
   "source": [
    "The green points satisfy KKT."
   ]
  },
  {
   "cell_type": "code",
   "execution_count": 68,
   "metadata": {},
   "outputs": [
    {
     "name": "stdout",
     "output_type": "stream",
     "text": [
      "distance [3,3] to hyperplane:  0.23767191636080828  <  margin:  0.2781695722345141 ?\n",
      "point is in margin?  True\n"
     ]
    }
   ],
   "source": [
    "class_pred_33 = d(w, b, [3,3]) #calc_h(w, [3,3], b)\n",
    "print(\"distance [3,3] to hyperplane: \", class_pred_33, \" < \", \"margin: \", margin, \"?\" )\n",
    "print(\"point is in margin? \", class_pred_33 < margin)"
   ]
  },
  {
   "cell_type": "markdown",
   "metadata": {},
   "source": [
    "Point x* = [3,3] with y* = 1, we can see that the point rests inside of the positive hyperplane (the margins) from the analytical results above, meaning it would face correct classification in class 1 despite being in the margin. The distance of [3,3] to the hyperplane is 0.2376, whereas the perpendicular margin is 0.278. The point rests just inside the positive marginal hyperplane, but appears outside of it on the graph because margins were added vertically (not perpendicularly) to the main hyperplane and the incorrect margin (vertical distance) becomes (much) greater than the distance of the point to the hyperplane, and thus the true location of the (+/-) hyperplanes should be in fact a bit more seperated. "
   ]
  },
  {
   "cell_type": "code",
   "execution_count": 69,
   "metadata": {},
   "outputs": [
    {
     "name": "stdout",
     "output_type": "stream",
     "text": [
      "xi:  0.9385434400670843\n"
     ]
    }
   ],
   "source": [
    "x_ = [3,3]\n",
    "y_ = 1\n",
    "h_ = calc_h(w, x_, b)\n",
    "\n",
    "xi = 1 - y_*h_\n",
    "print(\"xi: \", xi)\n"
   ]
  },
  {
   "cell_type": "markdown",
   "metadata": {},
   "source": [
    "Given the above calculations for the linear model using the obtained weights, the intercept, and the point itself, we found that the minimum value ξi xi could hold. We want to share the condition: 1 - y*h(x) >= ξi and in solving this inequality, we find ξi = 0.9385434400670843. However, since the point is actually correctly classified (but may have tight margins), we will note that ξi = max(0,1-y*h) actually says ξi = 0 as upon correct classification we set the slack variable to zero, and upon incorrect classification we use ξi = 1-y*h. Thus, I guess ξ should be equal to 0 upon generalizing the model to x = [3,3]."
   ]
  }
 ],
 "metadata": {
  "kernelspec": {
   "display_name": "base",
   "language": "python",
   "name": "python3"
  },
  "language_info": {
   "codemirror_mode": {
    "name": "ipython",
    "version": 3
   },
   "file_extension": ".py",
   "mimetype": "text/x-python",
   "name": "python",
   "nbconvert_exporter": "python",
   "pygments_lexer": "ipython3",
   "version": "3.11.5"
  }
 },
 "nbformat": 4,
 "nbformat_minor": 2
}
